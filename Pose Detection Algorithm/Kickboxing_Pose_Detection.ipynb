{
  "cells": [
    {
      "cell_type": "markdown",
      "metadata": {
        "id": "aJNhJ9ti_EKf"
      },
      "source": [
        "# Pose detection algorithm using PoseNet"
      ]
    },
    {
      "cell_type": "code",
      "execution_count": null,
      "metadata": {
        "colab": {
          "base_uri": "https://localhost:8080/"
        },
        "id": "1XH5EYAkYSVQ",
        "outputId": "5b71b367-d78f-4f8b-b89c-893eafa5863c"
      },
      "outputs": [],
      "source": [
        "# Checking Python Version\n",
        "\n",
        "import sys\n",
        "print(\"Python version: \"+sys.version)"
      ]
    },
    {
      "cell_type": "code",
      "execution_count": null,
      "metadata": {
        "colab": {
          "base_uri": "https://localhost:8080/"
        },
        "id": "ezbGmh3wqmkW",
        "outputId": "f8f85358-3c87-40a9-a31a-7267b2aa1f6c"
      },
      "outputs": [],
      "source": [
        "# Mounting Google drive to use resources from it\n",
        "\n",
        "from google.colab import drive\n",
        "drive.mount(\"/content/drive/\")"
      ]
    },
    {
      "cell_type": "code",
      "execution_count": null,
      "metadata": {
        "id": "DFd2Dqfb9OuY"
      },
      "outputs": [],
      "source": [
        "# Imports\n",
        "\n",
        "import tensorflow as tf\n",
        "import numpy as np\n",
        "from PIL import Image, ImageDraw, ImageColor\n",
        "import os\n",
        "import matplotlib.pyplot as plt\n",
        "import cv2\n",
        "import pandas as pd"
      ]
    },
    {
      "cell_type": "markdown",
      "metadata": {},
      "source": [
        "# Keypoint Calculation"
      ]
    },
    {
      "cell_type": "code",
      "execution_count": null,
      "metadata": {
        "id": "gdx7JMOM3GyU"
      },
      "outputs": [],
      "source": [
        "class Pose:\n",
        "  KEYPOINTS = (\n",
        "  'nose',\n",
        "  'left eye',\n",
        "  'right eye',\n",
        "  'left ear',\n",
        "  'right ear',\n",
        "  'left shoulder',\n",
        "  'right shoulder',\n",
        "  'left elbow',\n",
        "  'right elbow',\n",
        "  'left wrist',\n",
        "  'right wrist',\n",
        "  'left hip',\n",
        "  'right hip',\n",
        "  'left knee',\n",
        "  'right knee',\n",
        "  'left ankle',\n",
        "  'right ankle')\n",
        "\n",
        "  EDGES = (\n",
        "      ('nose', 'left eye'),\n",
        "      ('nose', 'right eye'),\n",
        "      ('nose', 'left ear'),\n",
        "      ('nose', 'right ear'),\n",
        "      ('left ear', 'left eye'),\n",
        "      ('right ear', 'right eye'),\n",
        "      ('left eye', 'right eye'),\n",
        "      ('left shoulder', 'right shoulder'),\n",
        "      ('left shoulder', 'left elbow'),\n",
        "      ('left shoulder', 'left hip'),\n",
        "      ('right shoulder', 'right elbow'),\n",
        "      ('right shoulder', 'right hip'),\n",
        "      ('left elbow', 'left wrist'),\n",
        "      ('right elbow', 'right wrist'),\n",
        "      ('left hip', 'right hip'),\n",
        "      ('left hip', 'left knee'),\n",
        "      ('right hip', 'right knee'),\n",
        "      ('left knee', 'left ankle'),\n",
        "      ('right knee', 'right ankle'),\n",
        "  )\n",
        "\n",
        "  def __init__(self, model_path):\n",
        "    self.tflite_interpreter = tf.lite.Interpreter(model_path=model_path)\n",
        "    self.tflite_interpreter.allocate_tensors()\n",
        "\n",
        "    self.input_details = self.tflite_interpreter.get_input_details()\n",
        "    self.output_details = self.tflite_interpreter.get_output_details()\n",
        "\n",
        "  @staticmethod\n",
        "  def _sigmoid(z):\n",
        "    return 1/(1 + np.exp(-z))\n",
        "\n",
        "  # Calculation of Keypoints\n",
        "  def calc(self, img):\n",
        "    self.tflite_interpreter.set_tensor(self.input_details[0]['index'], np.expand_dims(np.asarray(img).astype('float32')/ 128.0 - 1.0, axis=0))\n",
        "    self.tflite_interpreter.invoke()\n",
        "\n",
        "    output_tensor = [self.tflite_interpreter.get_tensor(self.output_details[i][\"index\"]) for i in range(len(self.output_details))]\n",
        "\n",
        "    # 1 * 9 * 9 * 17 contains heatmaps\n",
        "    heatmapsShape = output_tensor[0].shape\n",
        "\n",
        "    # 1 * 9 * 9 * 34 contains offsets\n",
        "    offsetsShape = output_tensor[1].shape\n",
        "\n",
        "    # 1 * 9 * 9 * 32 contains forward displacements\n",
        "    displacementsFwdShape = output_tensor[2].shape\n",
        "\n",
        "    # 1 * 9 * 9 * 32 contains backward displacements\n",
        "    displacementsBwdShape = output_tensor[3].shape\n",
        "\n",
        "\n",
        "    heatmaps = np.asarray(output_tensor[0])\n",
        "    offsets = np.asarray(output_tensor[1])\n",
        "\n",
        "    height = heatmaps[0].shape[0]\n",
        "    width = heatmaps[0].shape[1]\n",
        "    numKeypoints = heatmaps[0][0][0].size\n",
        "\n",
        "    # Finds the (row, col) locations of where the keypoints are most likely to be.\n",
        "    keypointPositions = []\n",
        "    for keypoint in range(numKeypoints):\n",
        "      maxVal = heatmaps[0][0][0][keypoint]\n",
        "      maxRow = 0\n",
        "      maxCol = 0\n",
        "      for row in range(height):\n",
        "        for col in range(width):\n",
        "          if (heatmaps[0][row][col][keypoint] > maxVal):\n",
        "            maxVal = heatmaps[0][row][col][keypoint]\n",
        "            maxRow = row\n",
        "            maxCol = col\n",
        "      keypointPositions.append((maxRow, maxCol))\n",
        "\n",
        "\n",
        "    # Calculating the x and y coordinates of the keypoints with offset adjustment.\n",
        "    output_dic = {}\n",
        "    total_score = 0.0\n",
        "    for idx, (bodypart, (positionY,positionX)) in enumerate(zip(Pose.KEYPOINTS, keypointPositions)):\n",
        "      output_dic[bodypart] = {}\n",
        "      output_dic[bodypart]['x'] = int(positionX / (width - 1) * img.shape[1] + offsets[0][positionY][positionX][idx + numKeypoints])\n",
        "      output_dic[bodypart]['y'] = int(positionY / (height - 1) * img.shape[0] + offsets[0][positionY][positionX][idx])\n",
        "      output_dic[bodypart]['score'] = self._sigmoid(heatmaps[0][positionY][positionX][idx])\n",
        "      total_score += output_dic[bodypart]['score']\n",
        "\n",
        "    output_dic['total_score'] = total_score / len(Pose.KEYPOINTS)\n",
        "\n",
        "    return output_dic\n",
        "\n",
        "  # Optional method that plots the keypoints and edges on the original image\n",
        "  def draw_pose(self, pose, img, threshold=0.5, marker_color='green', color='yellow', marker_size=5, thickness=2):\n",
        "    img1 = Image.fromarray(np.uint8(img)).convert('RGB')\n",
        "    img1 = img1.resize((257,257))\n",
        "\n",
        "    draw = ImageDraw.Draw(img1)\n",
        "\n",
        "    edges = []\n",
        "    for p1, p2 in Pose.EDGES:\n",
        "        if (pose[p1]['score'] < threshold) or (pose[p2]['score'] < threshold): continue\n",
        "        draw.line((pose[p1]['x'], pose[p1]['y'], pose[p2]['x'], pose[p2]['y']), fill=color, width=thickness)\n",
        "        edges.append((pose[p1]['x'], pose[p1]['y'], pose[p2]['x'], pose[p2]['y']))\n",
        "\n",
        "    for label, keypoint in pose.items():\n",
        "      if label=='total_score' : break\n",
        "      if keypoint['score'] < threshold: continue\n",
        "\n",
        "      draw.ellipse((int(keypoint['x']-marker_size/2), int(keypoint['y']-marker_size/2), int(keypoint['x']+marker_size/2), int(keypoint['y']+marker_size/2)), fill=marker_color)\n",
        "\n",
        "    return img1"
      ]
    },
    {
      "cell_type": "markdown",
      "metadata": {},
      "source": [
        "# Data saving to CSV"
      ]
    },
    {
      "cell_type": "code",
      "execution_count": null,
      "metadata": {
        "id": "uGmG_5puJzL5"
      },
      "outputs": [],
      "source": [
        "  # Transforms data to be saved in respective CSV file\n",
        "  def saveData(pose ,code, base):\n",
        "    path = \"/content/drive/MyDrive/Colab Notebooks/\"\n",
        "    keypointData = pd.DataFrame(pose.items())\n",
        "    keypointData[1] = keypointData[1].apply(lambda x: str(x).replace(',', ';'))\n",
        "\n",
        "    formatted_data = \", \".join([f\"{value}:{keypointData[1][idx]}\" for idx, value in enumerate(keypointData[0])])\n",
        "    formatted_df = pd.DataFrame([formatted_data.split(',')]).T\n",
        "\n",
        "    flat = formatted_df.T.values.flatten()\n",
        "    flat_df = pd.DataFrame(flat).T\n",
        "    flat_df.insert(loc=0, column=\"id\", value=code)\n",
        "    flat_df.to_csv(path+\"keypoints_\"+base+\".csv\", index=False, header=False, mode='a')"
      ]
    },
    {
      "cell_type": "markdown",
      "metadata": {},
      "source": [
        "# Loading images and creating custom image code"
      ]
    },
    {
      "cell_type": "code",
      "execution_count": null,
      "metadata": {
        "id": "OFwrDRH8G8H0"
      },
      "outputs": [],
      "source": [
        "def image_loader(directory):\n",
        "    os.chdir(directory + \"/High-Kick\")\n",
        "    img_list = os.listdir()\n",
        "    norm = os.path.normpath(directory)\n",
        "    base = os.path.basename(norm)\n",
        "    # iterate through all images in the directory\n",
        "    for image in img_list:\n",
        "        # loads the image\n",
        "        img = cv2.imread(image)\n",
        "        # gets image name\n",
        "        name = os.path.splitext(image)[0]\n",
        "        # extracts custom ID code from image name\n",
        "        code = name[0:12]\n",
        "        # removes any trailing underscores\n",
        "        if code[-1] == \"_\":\n",
        "            code = code[:-1]\n",
        "        # sends image to pose estimation model\n",
        "        output_dict = pose.calc(img)\n",
        "        # saves data to CSV\n",
        "        saveData(output_dict, code, base)\n",
        "    print(directory + \" directory High-Kick images completed\")\n",
        "\n",
        "    os.chdir(directory + \"/Knee-Strike\")\n",
        "    img_list = os.listdir()\n",
        "    norm = os.path.normpath(directory)\n",
        "    base = os.path.basename(norm)\n",
        "    # iterate through all images in the directory\n",
        "    for image in img_list:\n",
        "        # loads the image\n",
        "        img = cv2.imread(image)\n",
        "        # gets image name\n",
        "        name = os.path.splitext(image)[0]\n",
        "        # extracts custom ID code from image name\n",
        "        code = name[0:12]\n",
        "        # removes any trailing underscores\n",
        "        if code[-1] == \"_\":\n",
        "            code = code[:-1]\n",
        "        # sends image to pose estimation model\n",
        "        output_dict = pose.calc(img)\n",
        "        # saves data to CSV\n",
        "        saveData(output_dict, code, base)\n",
        "    print(directory + \" directory Knee-Strike images completed\")\n",
        "\n",
        "    os.chdir(directory + \"/Low-Kick\")\n",
        "    img_list = os.listdir()\n",
        "    norm = os.path.normpath(directory)\n",
        "    base = os.path.basename(norm)\n",
        "    # iterate through all images in the directory\n",
        "    for image in img_list:\n",
        "        # loads the image\n",
        "        img = cv2.imread(image)\n",
        "        # gets image name\n",
        "        name = os.path.splitext(image)[0]\n",
        "        # extracts custom ID code from image name\n",
        "        code = name[0:12]\n",
        "        # removes any trailing underscores\n",
        "        if code[-1] == \"_\":\n",
        "            code = code[:-1]\n",
        "        # sends image to pose estimation model\n",
        "        output_dict = pose.calc(img)\n",
        "        # saves data to CSV\n",
        "        saveData(output_dict, code, base)\n",
        "    print(directory + \" directory Low-Kick images completed\")"
      ]
    },
    {
      "cell_type": "code",
      "execution_count": null,
      "metadata": {
        "colab": {
          "base_uri": "https://localhost:8080/"
        },
        "id": "lYKam-Ny98rA",
        "outputId": "0827f646-c54c-48dc-c2b9-80eb9fd0a512"
      },
      "outputs": [],
      "source": [
        "# https://www.tensorflow.org/lite/models/pose_estimation/overview\n",
        "!wget \"https://storage.googleapis.com/download.tensorflow.org/models/tflite/posenet_mobilenet_v1_100_257x257_multi_kpt_stripped.tflite\""
      ]
    },
    {
      "cell_type": "markdown",
      "metadata": {},
      "source": [
        "# Run"
      ]
    },
    {
      "cell_type": "code",
      "execution_count": null,
      "metadata": {
        "colab": {
          "base_uri": "https://localhost:8080/"
        },
        "id": "RtNaqhcsFdoH",
        "outputId": "167e768f-6a7c-462e-cd08-216b19510fe9"
      },
      "outputs": [],
      "source": [
        "pose = Pose(\"posenet_mobilenet_v1_100_257x257_multi_kpt_stripped.tflite\")\n",
        "\n",
        "# setup paths for dataset\n",
        "data_dir = '/content/drive/MyDrive/V1 Dataset'\n",
        "val_dir = data_dir + '/valid'\n",
        "test_dir = data_dir + '/test'\n",
        "train_dir = data_dir + '/train'\n",
        "\n",
        "image_loader(val_dir)\n",
        "image_loader(test_dir)\n",
        "image_loader(train_dir)\n",
        "\n",
        "print(\"finished\")"
      ]
    }
  ],
  "metadata": {
    "colab": {
      "provenance": []
    },
    "kernelspec": {
      "display_name": "Python 3",
      "name": "python3"
    }
  },
  "nbformat": 4,
  "nbformat_minor": 0
}
